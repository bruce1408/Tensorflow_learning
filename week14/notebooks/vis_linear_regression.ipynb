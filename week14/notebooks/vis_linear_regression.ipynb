{
 "cells": [
  {
   "cell_type": "markdown",
   "metadata": {},
   "source": [
    "# Visualizing Linear Regression "
   ]
  },
  {
   "cell_type": "code",
   "execution_count": 1,
   "metadata": {
    "collapsed": false
   },
   "outputs": [
    {
     "data": {
      "text/plain": [
       "<matplotlib.legend.Legend at 0x7f77fa9eb3d0>"
      ]
     },
     "execution_count": 1,
     "metadata": {},
     "output_type": "execute_result"
    },
    {
     "data": {
      "image/png": "[encoded data removed]",
      "text/plain": [
       "<matplotlib.figure.Figure at 0x7f77faf14d10>"
      ]
     },
     "metadata": {},
     "output_type": "display_data"
    }
   ],
   "source": [
    "import tensorflow as tf\n",
    "import numpy as np\n",
    "import matplotlib.pyplot as plt\n",
    "%matplotlib inline  \n",
    "\n",
    "np.random.seed(1)\n",
    "def f(x, a, b):\n",
    "    n    = train_X.size\n",
    "    vals = np.zeros((1, n))\n",
    "    for i in range(0, n):\n",
    "        ax  = np.multiply(a, x.item(i))\n",
    "        val = np.add(ax, b)\n",
    "        vals[0, i] = val\n",
    "    return vals\n",
    "\n",
    "Wref = 0.7\n",
    "bref = -1.\n",
    "n    = 20\n",
    "noise_var = 0.001\n",
    "train_X   = np.random.random((1, n))\n",
    "ref_Y     = f(train_X, Wref, bref)\n",
    "train_Y   = ref_Y + np.sqrt(noise_var)*np.random.randn(1, n)\n",
    "n_samples = train_X.size \n",
    "\n",
    "# Plot\n",
    "plt.figure(1)\n",
    "plt.plot(train_X[0, :], ref_Y[0, :], 'ro', label='Original data')\n",
    "plt.plot(train_X[0, :], train_Y[0, :], 'bo', label='Training data')\n",
    "plt.axis('equal')\n",
    "plt.legend(loc='lower right')"
   ]
  },
  {
   "cell_type": "code",
   "execution_count": 2,
   "metadata": {
    "collapsed": false,
    "scrolled": true
   },
   "outputs": [
    {
     "name": "stdout",
     "output_type": "stream",
     "text": [
      "[0/1000] cost :0.215 Wtemp is -0.696 and Wref is 0.700 btemp is -0.172 and bref is -1.000\n",
      "[100/1000] cost :0.003 Wtemp is 0.505 and Wref is 0.700 btemp is -0.928 and bref is -1.000\n",
      "[200/1000] cost :0.001 Wtemp is 0.667 and Wref is 0.700 btemp is -0.992 and bref is -1.000\n",
      "[300/1000] cost :0.001 Wtemp is 0.688 and Wref is 0.700 btemp is -1.000 and bref is -1.000\n",
      "[400/1000] cost :0.001 Wtemp is 0.690 and Wref is 0.700 btemp is -1.001 and bref is -1.000\n",
      "[500/1000] cost :0.001 Wtemp is 0.690 and Wref is 0.700 btemp is -1.001 and bref is -1.000\n",
      "[600/1000] cost :0.001 Wtemp is 0.691 and Wref is 0.700 btemp is -1.001 and bref is -1.000\n",
      "[700/1000] cost :0.001 Wtemp is 0.691 and Wref is 0.700 btemp is -1.001 and bref is -1.000\n",
      "[800/1000] cost :0.001 Wtemp is 0.691 and Wref is 0.700 btemp is -1.001 and bref is -1.000\n",
      "[900/1000] cost :0.001 Wtemp is 0.691 and Wref is 0.700 btemp is -1.001 and bref is -1.000\n"
     ]
    }
   ],
   "source": [
    "# Parameters \n",
    "training_epochs = 1000\n",
    "display_step    = 100\n",
    "\n",
    "# Set TensorFlow Graph\n",
    "x = tf.placeholder(tf.float32, name=\"INPUT_x\")\n",
    "y = tf.placeholder(tf.float32, name=\"OUTPUT_y\")\n",
    "W = tf.Variable(np.random.randn(), name=\"WEIGHT_W\")\n",
    "b = tf.Variable(np.random.randn(), name=\"BIAS_b\")\n",
    "\n",
    "# Construct a Model\n",
    "activation = tf.add(tf.mul(x, W), b)\n",
    "\n",
    "# Define Error Measure and Optimizer\n",
    "learning_rate   = 0.01\n",
    "cost = tf.reduce_mean(tf.pow(activation-y, 2))\n",
    "optimizer = tf.train.GradientDescentOptimizer(learning_rate).minimize(cost) #Gradient descent\n",
    "\n",
    "# Initializer\n",
    "init = tf.initialize_all_variables()\n",
    "\n",
    "# Run! \n",
    "sess = tf.Session()\n",
    "# Initialize\n",
    "sess.run(init)\n",
    "# Summary\n",
    "summary_writer = tf.train.SummaryWriter('/tmp/tf_logs/linear_regression', graph=sess.graph)\n",
    "for epoch in range(training_epochs):\n",
    "    for (_x, _y) in zip(train_X[0, :], train_Y[0, :]):\n",
    "        # print \"x: \", x, \" y: \", y\n",
    "        sess.run(optimizer, feed_dict={x:_x, y:_y})\n",
    "    \n",
    "    # Check cost\n",
    "    if epoch % display_step == 0:\n",
    "        costval = sess.run(cost, feed_dict={x: train_X, y:train_Y})\n",
    "        print(\"[%d/%d] cost :%.3f\" % (epoch, training_epochs, costval)),\n",
    "        Wtemp = sess.run(W)\n",
    "        btemp = sess.run(b)\n",
    "        print(\"Wtemp is %.3f and Wref is %.3f\" % (Wtemp, Wref)),\n",
    "        print(\"btemp is %.3f and bref is %.3f\" % (btemp, bref))\n",
    "        \n",
    "# Final W and b\n",
    "Wopt = sess.run(W)\n",
    "bopt = sess.run(b)\n",
    "fopt = f(train_X, Wopt, bopt)"
   ]
  },
  {
   "cell_type": "code",
   "execution_count": 3,
   "metadata": {
    "collapsed": false
   },
   "outputs": [
    {
     "data": {
      "text/plain": [
       "<matplotlib.legend.Legend at 0x7f77cc2d8990>"
      ]
     },
     "execution_count": 3,
     "metadata": {},
     "output_type": "execute_result"
    },
    {
     "data": {
      "image/png": "[encoded data removed]",
      "text/plain": [
       "<matplotlib.figure.Figure at 0x7f77fa9466d0>"
      ]
     },
     "metadata": {},
     "output_type": "display_data"
    }
   ],
   "source": [
    "# Plot Results\n",
    "plt.figure(2)\n",
    "plt.plot(train_X[0, :], ref_Y[0, :], 'ro', label='Original data')\n",
    "plt.plot(train_X[0, :], train_Y[0, :], 'bo', label='Training data')\n",
    "plt.plot(train_X[0, :], fopt[0, :], 'k-', label='Fitted Line')\n",
    "plt.axis('equal')\n",
    "plt.legend(loc='lower right')"
   ]
  },
  {
   "cell_type": "markdown",
   "metadata": {},
   "source": [
    "### Run the command line\n",
    "##### tensorboard --logdir=/tmp/tf_logs/linear_regression\n",
    "### Open http://localhost:6006/ into your web browser"
   ]
  },
  {
   "cell_type": "markdown",
   "metadata": {},
   "source": [
    "<img src=\"images/tsboard/linear_regression.png\">"
   ]
  }
 ],
 "metadata": {
  "kernelspec": {
   "display_name": "Python 2",
   "language": "python",
   "name": "python2"
  },
  "language_info": {
   "codemirror_mode": {
    "name": "ipython",
    "version": 2
   },
   "file_extension": ".py",
   "mimetype": "text/x-python",
   "name": "python",
   "nbconvert_exporter": "python",
   "pygments_lexer": "ipython2",
   "version": "2.7.6"
  }
 },
 "nbformat": 4,
 "nbformat_minor": 0
}
