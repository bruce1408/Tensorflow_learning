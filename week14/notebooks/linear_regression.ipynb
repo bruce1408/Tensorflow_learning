{
 "cells": [
  {
   "cell_type": "code",
   "execution_count": 1,
   "metadata": {
    "collapsed": false
   },
   "outputs": [
    {
     "name": "stdout",
     "output_type": "stream",
     "text": [
      "Packages Loaded\n"
     ]
    }
   ],
   "source": [
    "\"\"\"\n",
    "Linear Regression with TensorFlow\n",
    "sungjoon.choi@cpslab.snu.ac.kr\n",
    "\"\"\"\n",
    "import tensorflow as tf\n",
    "import numpy as np\n",
    "import matplotlib.pyplot as plt\n",
    "%matplotlib inline  \n",
    "print (\"Packages Loaded\")"
   ]
  },
  {
   "cell_type": "code",
   "execution_count": 2,
   "metadata": {
    "collapsed": false
   },
   "outputs": [
    {
     "name": "stdout",
     "output_type": "stream",
     "text": [
      "\n",
      " Type of 'train_X' is  <class 'numpy.ndarray'>\n",
      " Shape of 'train_X' is (1, 20)\n",
      " Type of 'train_Y' is  <class 'numpy.ndarray'>\n",
      " Shape of 'train_Y' is (1, 20)\n"
     ]
    },
    {
     "data": {
      "text/plain": [
       "<matplotlib.legend.Legend at 0x7ff521bd5f60>"
      ]
     },
     "execution_count": 2,
     "metadata": {},
     "output_type": "execute_result"
    },
    {
     "data": {
      "image/png": "[encoded data removed]",
      "text/plain": [
       "<matplotlib.figure.Figure at 0x7ff521c64c50>"
      ]
     },
     "metadata": {},
     "output_type": "display_data"
    }
   ],
   "source": [
    "# Generate training data\n",
    "np.random.seed(1)\n",
    "def f(x, a, b):\n",
    "    n    = train_X.size\n",
    "    vals = np.zeros((1, n))\n",
    "    for i in range(0, n):\n",
    "        ax  = np.multiply(a, x.item(i))\n",
    "        val = np.add(ax, b)\n",
    "        vals[0, i] = val\n",
    "    return vals\n",
    "\n",
    "Wref = 0.7\n",
    "bref = -1.\n",
    "n    = 20\n",
    "noise_var = 0.001\n",
    "train_X   = np.random.random((1, n))\n",
    "ref_Y     = f(train_X, Wref, bref)\n",
    "train_Y   = ref_Y + np.sqrt(noise_var)*np.random.randn(1, n)\n",
    "n_samples = train_X.size # <= Just for using size operator \n",
    "print (\"\")\n",
    "print (\" Type of 'train_X' is \", type(train_X))\n",
    "print (\" Shape of 'train_X' is %s\" % (train_X.shape,))\n",
    "print (\" Type of 'train_Y' is \", type(train_Y))\n",
    "print (\" Shape of 'train_Y' is %s\" % (train_Y.shape,))\n",
    "\n",
    "# Plot\n",
    "plt.figure(1)\n",
    "plt.plot(train_X[0, :], ref_Y[0, :], 'ro', label='Original data')\n",
    "plt.plot(train_X[0, :], train_Y[0, :], 'bo', label='Training data')\n",
    "plt.axis('equal')\n",
    "plt.legend(loc='lower right')"
   ]
  },
  {
   "cell_type": "code",
   "execution_count": 3,
   "metadata": {
    "collapsed": true
   },
   "outputs": [],
   "source": [
    "# Prepare for Linear Regression\n",
    "\n",
    "# Parameters \n",
    "training_epochs = 2000\n",
    "display_step    = 50\n",
    "\n",
    "\n",
    "# Set TensorFlow Graph\n",
    "X = tf.placeholder(tf.float32, name=\"input\")\n",
    "Y = tf.placeholder(tf.float32, name=\"output\")\n",
    "W = tf.Variable(np.random.randn(), name=\"weight\")\n",
    "b = tf.Variable(np.random.randn(), name=\"bias\")\n",
    "\n",
    "# Construct a Model\n",
    "activation = tf.add(tf.mul(X, W), b)\n",
    "\n",
    "# Define Error Measure and Optimizer\n",
    "learning_rate   = 0.01\n",
    "cost = tf.reduce_mean(tf.pow(activation-Y, 2))\n",
    "# learning_rate   = 0.001\n",
    "# cost = tf.sqrt(tf.reduce_sum(tf.pow(activation-Y, 2)))\n",
    "optimizer = tf.train.GradientDescentOptimizer(learning_rate).minimize(cost) #Gradient descent\n",
    "\n",
    "\"\"\"\n",
    " tf.reduce_sum()\n",
    " tf.reduce_mean()\n",
    " _____\n",
    "\n",
    " tf.pow(Yhat, Y, 2)\n",
    " tf.nn.softmax_cross_entropy_with_logits(Yhat, Y)\n",
    " _____\n",
    "\n",
    " tf.train.GradientDescentOptimizer(0.05).minimize(cost)\n",
    " tf.train.RMSPropOptimizer(0.001, 0.9).minimize(cost)\n",
    "\"\"\"\n",
    "\n",
    "# Initializer\n",
    "init = tf.initialize_all_variables()"
   ]
  },
  {
   "cell_type": "code",
   "execution_count": 4,
   "metadata": {
    "collapsed": false,
    "scrolled": true
   },
   "outputs": [
    {
     "name": "stdout",
     "output_type": "stream",
     "text": [
      "Epoch: 0001 cost= 0.21532\n",
      " Wtemp is -0.6964 btemp is -0.1715\n",
      " Wref is 0.7000 bref is -1.0000\n",
      "Epoch: 0051 cost= 0.01696\n",
      " Wtemp is 0.1656 btemp is -0.7954\n",
      " Wref is 0.7000 bref is -1.0000\n",
      "Epoch: 0101 cost= 0.00264\n",
      " Wtemp is 0.5047 btemp is -0.9280\n",
      " Wref is 0.7000 bref is -1.0000\n",
      "Epoch: 0151 cost= 0.00083\n",
      " Wtemp is 0.6247 btemp is -0.9750\n",
      " Wref is 0.7000 bref is -1.0000\n",
      "Epoch: 0201 cost= 0.00060\n",
      " Wtemp is 0.6672 btemp is -0.9916\n",
      " Wref is 0.7000 bref is -1.0000\n",
      "Epoch: 0251 cost= 0.00057\n",
      " Wtemp is 0.6823 btemp is -0.9975\n",
      " Wref is 0.7000 bref is -1.0000\n",
      "Epoch: 0301 cost= 0.00057\n",
      " Wtemp is 0.6876 btemp is -0.9996\n",
      " Wref is 0.7000 bref is -1.0000\n",
      "Epoch: 0351 cost= 0.00056\n",
      " Wtemp is 0.6895 btemp is -1.0003\n",
      " Wref is 0.7000 bref is -1.0000\n",
      "Epoch: 0401 cost= 0.00056\n",
      " Wtemp is 0.6901 btemp is -1.0006\n",
      " Wref is 0.7000 bref is -1.0000\n",
      "Epoch: 0451 cost= 0.00056\n",
      " Wtemp is 0.6904 btemp is -1.0007\n",
      " Wref is 0.7000 bref is -1.0000\n",
      "Epoch: 0501 cost= 0.00056\n",
      " Wtemp is 0.6905 btemp is -1.0007\n",
      " Wref is 0.7000 bref is -1.0000\n",
      "Epoch: 0551 cost= 0.00056\n",
      " Wtemp is 0.6905 btemp is -1.0007\n",
      " Wref is 0.7000 bref is -1.0000\n",
      "Epoch: 0601 cost= 0.00056\n",
      " Wtemp is 0.6905 btemp is -1.0007\n",
      " Wref is 0.7000 bref is -1.0000\n",
      "Epoch: 0651 cost= 0.00056\n",
      " Wtemp is 0.6905 btemp is -1.0007\n",
      " Wref is 0.7000 bref is -1.0000\n",
      "Epoch: 0701 cost= 0.00056\n",
      " Wtemp is 0.6905 btemp is -1.0007\n",
      " Wref is 0.7000 bref is -1.0000\n",
      "Epoch: 0751 cost= 0.00056\n",
      " Wtemp is 0.6905 btemp is -1.0007\n",
      " Wref is 0.7000 bref is -1.0000\n",
      "Epoch: 0801 cost= 0.00056\n",
      " Wtemp is 0.6905 btemp is -1.0007\n",
      " Wref is 0.7000 bref is -1.0000\n",
      "Epoch: 0851 cost= 0.00056\n",
      " Wtemp is 0.6905 btemp is -1.0007\n",
      " Wref is 0.7000 bref is -1.0000\n",
      "Epoch: 0901 cost= 0.00056\n",
      " Wtemp is 0.6905 btemp is -1.0007\n",
      " Wref is 0.7000 bref is -1.0000\n",
      "Epoch: 0951 cost= 0.00056\n",
      " Wtemp is 0.6905 btemp is -1.0007\n",
      " Wref is 0.7000 bref is -1.0000\n",
      "Epoch: 1001 cost= 0.00056\n",
      " Wtemp is 0.6905 btemp is -1.0007\n",
      " Wref is 0.7000 bref is -1.0000\n",
      "Epoch: 1051 cost= 0.00056\n",
      " Wtemp is 0.6905 btemp is -1.0007\n",
      " Wref is 0.7000 bref is -1.0000\n",
      "Epoch: 1101 cost= 0.00056\n",
      " Wtemp is 0.6905 btemp is -1.0007\n",
      " Wref is 0.7000 bref is -1.0000\n",
      "Epoch: 1151 cost= 0.00056\n",
      " Wtemp is 0.6905 btemp is -1.0007\n",
      " Wref is 0.7000 bref is -1.0000\n",
      "Epoch: 1201 cost= 0.00056\n",
      " Wtemp is 0.6905 btemp is -1.0007\n",
      " Wref is 0.7000 bref is -1.0000\n",
      "Epoch: 1251 cost= 0.00056\n",
      " Wtemp is 0.6905 btemp is -1.0007\n",
      " Wref is 0.7000 bref is -1.0000\n",
      "Epoch: 1301 cost= 0.00056\n",
      " Wtemp is 0.6905 btemp is -1.0007\n",
      " Wref is 0.7000 bref is -1.0000\n",
      "Epoch: 1351 cost= 0.00056\n",
      " Wtemp is 0.6905 btemp is -1.0007\n",
      " Wref is 0.7000 bref is -1.0000\n",
      "Epoch: 1401 cost= 0.00056\n",
      " Wtemp is 0.6905 btemp is -1.0007\n",
      " Wref is 0.7000 bref is -1.0000\n",
      "Epoch: 1451 cost= 0.00056\n",
      " Wtemp is 0.6905 btemp is -1.0007\n",
      " Wref is 0.7000 bref is -1.0000\n",
      "Epoch: 1501 cost= 0.00056\n",
      " Wtemp is 0.6905 btemp is -1.0007\n",
      " Wref is 0.7000 bref is -1.0000\n",
      "Epoch: 1551 cost= 0.00056\n",
      " Wtemp is 0.6905 btemp is -1.0007\n",
      " Wref is 0.7000 bref is -1.0000\n",
      "Epoch: 1601 cost= 0.00056\n",
      " Wtemp is 0.6905 btemp is -1.0007\n",
      " Wref is 0.7000 bref is -1.0000\n",
      "Epoch: 1651 cost= 0.00056\n",
      " Wtemp is 0.6905 btemp is -1.0007\n",
      " Wref is 0.7000 bref is -1.0000\n",
      "Epoch: 1701 cost= 0.00056\n",
      " Wtemp is 0.6905 btemp is -1.0007\n",
      " Wref is 0.7000 bref is -1.0000\n",
      "Epoch: 1751 cost= 0.00056\n",
      " Wtemp is 0.6905 btemp is -1.0007\n",
      " Wref is 0.7000 bref is -1.0000\n",
      "Epoch: 1801 cost= 0.00056\n",
      " Wtemp is 0.6905 btemp is -1.0007\n",
      " Wref is 0.7000 bref is -1.0000\n",
      "Epoch: 1851 cost= 0.00056\n",
      " Wtemp is 0.6905 btemp is -1.0007\n",
      " Wref is 0.7000 bref is -1.0000\n",
      "Epoch: 1901 cost= 0.00056\n",
      " Wtemp is 0.6905 btemp is -1.0007\n",
      " Wref is 0.7000 bref is -1.0000\n",
      "Epoch: 1951 cost= 0.00056\n",
      " Wtemp is 0.6905 btemp is -1.0007\n",
      " Wref is 0.7000 bref is -1.0000\n"
     ]
    }
   ],
   "source": [
    "# Run! \n",
    "sess = tf.Session()\n",
    "# Initialize\n",
    "sess.run(init)    \n",
    "for epoch in range(training_epochs):\n",
    "    for (x, y) in zip(train_X[0, :], train_Y[0, :]):\n",
    "        # print \"x: \", x, \" y: \", y\n",
    "        sess.run(optimizer, feed_dict={X:x, Y:y})\n",
    "    \n",
    "    # Check cost\n",
    "    if epoch % display_step == 0:\n",
    "        costval = sess.run(cost, feed_dict={X: train_X, Y:train_Y})\n",
    "        print (\"Epoch:\", \"%04d\"%(epoch+1), \"cost=\", \"{:.5f}\".format(costval))\n",
    "        Wtemp = sess.run(W)\n",
    "        btemp = sess.run(b)\n",
    "        print (\" Wtemp is\", \"{:.4f}\".format(Wtemp), \"btemp is\", \"{:.4f}\".format(btemp))\n",
    "        print (\" Wref is\", \"{:.4f}\".format(Wref), \"bref is\", \"{:.4f}\".format(bref))\n",
    "        \n",
    "# Final W and b\n",
    "Wopt = sess.run(W)\n",
    "bopt = sess.run(b)\n",
    "fopt = f(train_X, Wopt, bopt)"
   ]
  },
  {
   "cell_type": "code",
   "execution_count": 5,
   "metadata": {
    "collapsed": false
   },
   "outputs": [
    {
     "data": {
      "text/plain": [
       "<matplotlib.legend.Legend at 0x7ff520245b00>"
      ]
     },
     "execution_count": 5,
     "metadata": {},
     "output_type": "execute_result"
    },
    {
     "data": {
      "image/png": "[encoded data removed]",
      "text/plain": [
       "<matplotlib.figure.Figure at 0x7ff521c54e10>"
      ]
     },
     "metadata": {},
     "output_type": "display_data"
    }
   ],
   "source": [
    "# Plot Results\n",
    "plt.figure(2)\n",
    "plt.plot(train_X[0, :], ref_Y[0, :], 'ro', label='Original data')\n",
    "plt.plot(train_X[0, :], train_Y[0, :], 'bo', label='Training data')\n",
    "plt.plot(train_X[0, :], fopt[0, :], 'k-', label='Fitted Line')\n",
    "plt.axis('equal')\n",
    "plt.legend(loc='lower right')"
   ]
  },
  {
   "cell_type": "code",
   "execution_count": null,
   "metadata": {
    "collapsed": true
   },
   "outputs": [],
   "source": []
  }
 ],
 "metadata": {
  "kernelspec": {
   "display_name": "Python 3",
   "language": "python",
   "name": "python3"
  },
  "language_info": {
   "codemirror_mode": {
    "name": "ipython",
    "version": 3
   },
   "file_extension": ".py",
   "mimetype": "text/x-python",
   "name": "python",
   "nbconvert_exporter": "python",
   "pygments_lexer": "ipython3",
   "version": "3.4.3"
  }
 },
 "nbformat": 4,
 "nbformat_minor": 0
}
